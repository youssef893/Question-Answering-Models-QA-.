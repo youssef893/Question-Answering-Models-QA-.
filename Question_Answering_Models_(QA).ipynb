{
  "nbformat": 4,
  "nbformat_minor": 0,
  "metadata": {
    "colab": {
      "provenance": [],
      "authorship_tag": "ABX9TyOZTc7TE5Dk66/Lb9Xb59bt",
      "include_colab_link": true
    },
    "kernelspec": {
      "name": "python3",
      "display_name": "Python 3"
    },
    "language_info": {
      "name": "python"
    },
    "accelerator": "GPU",
    "gpuClass": "standard"
  },
  "cells": [
    {
      "cell_type": "markdown",
      "metadata": {
        "id": "view-in-github",
        "colab_type": "text"
      },
      "source": [
        "<a href=\"https://colab.research.google.com/github/youssef893/Question-Answering-Models-QA-./blob/main/Question_Answering_Models_(QA).ipynb\" target=\"_parent\"><img src=\"https://colab.research.google.com/assets/colab-badge.svg\" alt=\"Open In Colab\"/></a>"
      ]
    },
    {
      "cell_type": "code",
      "execution_count": 1,
      "metadata": {
        "colab": {
          "base_uri": "https://localhost:8080/"
        },
        "id": "GQVJfm4P36Sg",
        "outputId": "7f1e1bb4-5a2d-4f14-cd65-f9a0bdda3ece"
      },
      "outputs": [
        {
          "output_type": "stream",
          "name": "stdout",
          "text": [
            "Looking in indexes: https://pypi.org/simple, https://us-python.pkg.dev/colab-wheels/public/simple/\n",
            "Collecting transformers\n",
            "  Downloading transformers-4.25.1-py3-none-any.whl (5.8 MB)\n",
            "\u001b[K     |████████████████████████████████| 5.8 MB 29.4 MB/s \n",
            "\u001b[?25hRequirement already satisfied: tqdm>=4.27 in /usr/local/lib/python3.8/dist-packages (from transformers) (4.64.1)\n",
            "Requirement already satisfied: pyyaml>=5.1 in /usr/local/lib/python3.8/dist-packages (from transformers) (6.0)\n",
            "Requirement already satisfied: numpy>=1.17 in /usr/local/lib/python3.8/dist-packages (from transformers) (1.21.6)\n",
            "Requirement already satisfied: filelock in /usr/local/lib/python3.8/dist-packages (from transformers) (3.8.2)\n",
            "Collecting huggingface-hub<1.0,>=0.10.0\n",
            "  Downloading huggingface_hub-0.11.1-py3-none-any.whl (182 kB)\n",
            "\u001b[K     |████████████████████████████████| 182 kB 76.3 MB/s \n",
            "\u001b[?25hCollecting tokenizers!=0.11.3,<0.14,>=0.11.1\n",
            "  Downloading tokenizers-0.13.2-cp38-cp38-manylinux_2_17_x86_64.manylinux2014_x86_64.whl (7.6 MB)\n",
            "\u001b[K     |████████████████████████████████| 7.6 MB 57.8 MB/s \n",
            "\u001b[?25hRequirement already satisfied: regex!=2019.12.17 in /usr/local/lib/python3.8/dist-packages (from transformers) (2022.6.2)\n",
            "Requirement already satisfied: requests in /usr/local/lib/python3.8/dist-packages (from transformers) (2.23.0)\n",
            "Requirement already satisfied: packaging>=20.0 in /usr/local/lib/python3.8/dist-packages (from transformers) (21.3)\n",
            "Requirement already satisfied: typing-extensions>=3.7.4.3 in /usr/local/lib/python3.8/dist-packages (from huggingface-hub<1.0,>=0.10.0->transformers) (4.4.0)\n",
            "Requirement already satisfied: pyparsing!=3.0.5,>=2.0.2 in /usr/local/lib/python3.8/dist-packages (from packaging>=20.0->transformers) (3.0.9)\n",
            "Requirement already satisfied: urllib3!=1.25.0,!=1.25.1,<1.26,>=1.21.1 in /usr/local/lib/python3.8/dist-packages (from requests->transformers) (1.24.3)\n",
            "Requirement already satisfied: idna<3,>=2.5 in /usr/local/lib/python3.8/dist-packages (from requests->transformers) (2.10)\n",
            "Requirement already satisfied: certifi>=2017.4.17 in /usr/local/lib/python3.8/dist-packages (from requests->transformers) (2022.12.7)\n",
            "Requirement already satisfied: chardet<4,>=3.0.2 in /usr/local/lib/python3.8/dist-packages (from requests->transformers) (3.0.4)\n",
            "Installing collected packages: tokenizers, huggingface-hub, transformers\n",
            "Successfully installed huggingface-hub-0.11.1 tokenizers-0.13.2 transformers-4.25.1\n"
          ]
        }
      ],
      "source": [
        "!pip install transformers"
      ]
    },
    {
      "cell_type": "code",
      "source": [
        "import pandas as pd"
      ],
      "metadata": {
        "id": "3AuAZFD55QnZ"
      },
      "execution_count": 2,
      "outputs": []
    },
    {
      "cell_type": "code",
      "source": [
        "data = pd.read_excel('/content/Output_BBC (1) (1) (1) (1).xlsx')\n",
        "data.head()"
      ],
      "metadata": {
        "colab": {
          "base_uri": "https://localhost:8080/",
          "height": 206
        },
        "id": "6wX-nD_e7bEO",
        "outputId": "777327f6-b5c4-4da0-c30c-0b5fb158c931"
      },
      "execution_count": 3,
      "outputs": [
        {
          "output_type": "execute_result",
          "data": {
            "text/plain": [
              "                                                Link  \\\n",
              "0  https://www.bbc.com/news/uk-england-hereford-w...   \n",
              "1     https://www.bbc.com/news/world-europe-63573387   \n",
              "2       https://www.bbc.com/news/technology-62739436   \n",
              "3  https://www.bbc.com/news/uk-england-leicesters...   \n",
              "4         https://www.bbc.com/news/business-63539652   \n",
              "\n",
              "                                               Title  \\\n",
              "0  Pupils' data spread online in Hereford school ...   \n",
              "1  Kherson: Russia to withdraw troops from key Uk...   \n",
              "2  'We talk to plants - they tell us how happy th...   \n",
              "3  'When I couldn't fix George, I climbed a mount...   \n",
              "4  Furniture firm Made collapse: Customers in the...   \n",
              "\n",
              "                                         Description  \n",
              "0  Pupils' data spread online in Hereford school ...  \n",
              "1  Kherson: Russia to withdraw troops from key Uk...  \n",
              "2  Vertical farming - growing plants indoors, on ...  \n",
              "3  A father climbed Mount Kilimanjaro while weari...  \n",
              "4  Furniture firm Made collapse: Customers in the...  "
            ],
            "text/html": [
              "\n",
              "  <div id=\"df-19e46b5a-d3d7-4a01-8c30-e805c52335df\">\n",
              "    <div class=\"colab-df-container\">\n",
              "      <div>\n",
              "<style scoped>\n",
              "    .dataframe tbody tr th:only-of-type {\n",
              "        vertical-align: middle;\n",
              "    }\n",
              "\n",
              "    .dataframe tbody tr th {\n",
              "        vertical-align: top;\n",
              "    }\n",
              "\n",
              "    .dataframe thead th {\n",
              "        text-align: right;\n",
              "    }\n",
              "</style>\n",
              "<table border=\"1\" class=\"dataframe\">\n",
              "  <thead>\n",
              "    <tr style=\"text-align: right;\">\n",
              "      <th></th>\n",
              "      <th>Link</th>\n",
              "      <th>Title</th>\n",
              "      <th>Description</th>\n",
              "    </tr>\n",
              "  </thead>\n",
              "  <tbody>\n",
              "    <tr>\n",
              "      <th>0</th>\n",
              "      <td>https://www.bbc.com/news/uk-england-hereford-w...</td>\n",
              "      <td>Pupils' data spread online in Hereford school ...</td>\n",
              "      <td>Pupils' data spread online in Hereford school ...</td>\n",
              "    </tr>\n",
              "    <tr>\n",
              "      <th>1</th>\n",
              "      <td>https://www.bbc.com/news/world-europe-63573387</td>\n",
              "      <td>Kherson: Russia to withdraw troops from key Uk...</td>\n",
              "      <td>Kherson: Russia to withdraw troops from key Uk...</td>\n",
              "    </tr>\n",
              "    <tr>\n",
              "      <th>2</th>\n",
              "      <td>https://www.bbc.com/news/technology-62739436</td>\n",
              "      <td>'We talk to plants - they tell us how happy th...</td>\n",
              "      <td>Vertical farming - growing plants indoors, on ...</td>\n",
              "    </tr>\n",
              "    <tr>\n",
              "      <th>3</th>\n",
              "      <td>https://www.bbc.com/news/uk-england-leicesters...</td>\n",
              "      <td>'When I couldn't fix George, I climbed a mount...</td>\n",
              "      <td>A father climbed Mount Kilimanjaro while weari...</td>\n",
              "    </tr>\n",
              "    <tr>\n",
              "      <th>4</th>\n",
              "      <td>https://www.bbc.com/news/business-63539652</td>\n",
              "      <td>Furniture firm Made collapse: Customers in the...</td>\n",
              "      <td>Furniture firm Made collapse: Customers in the...</td>\n",
              "    </tr>\n",
              "  </tbody>\n",
              "</table>\n",
              "</div>\n",
              "      <button class=\"colab-df-convert\" onclick=\"convertToInteractive('df-19e46b5a-d3d7-4a01-8c30-e805c52335df')\"\n",
              "              title=\"Convert this dataframe to an interactive table.\"\n",
              "              style=\"display:none;\">\n",
              "        \n",
              "  <svg xmlns=\"http://www.w3.org/2000/svg\" height=\"24px\"viewBox=\"0 0 24 24\"\n",
              "       width=\"24px\">\n",
              "    <path d=\"M0 0h24v24H0V0z\" fill=\"none\"/>\n",
              "    <path d=\"M18.56 5.44l.94 2.06.94-2.06 2.06-.94-2.06-.94-.94-2.06-.94 2.06-2.06.94zm-11 1L8.5 8.5l.94-2.06 2.06-.94-2.06-.94L8.5 2.5l-.94 2.06-2.06.94zm10 10l.94 2.06.94-2.06 2.06-.94-2.06-.94-.94-2.06-.94 2.06-2.06.94z\"/><path d=\"M17.41 7.96l-1.37-1.37c-.4-.4-.92-.59-1.43-.59-.52 0-1.04.2-1.43.59L10.3 9.45l-7.72 7.72c-.78.78-.78 2.05 0 2.83L4 21.41c.39.39.9.59 1.41.59.51 0 1.02-.2 1.41-.59l7.78-7.78 2.81-2.81c.8-.78.8-2.07 0-2.86zM5.41 20L4 18.59l7.72-7.72 1.47 1.35L5.41 20z\"/>\n",
              "  </svg>\n",
              "      </button>\n",
              "      \n",
              "  <style>\n",
              "    .colab-df-container {\n",
              "      display:flex;\n",
              "      flex-wrap:wrap;\n",
              "      gap: 12px;\n",
              "    }\n",
              "\n",
              "    .colab-df-convert {\n",
              "      background-color: #E8F0FE;\n",
              "      border: none;\n",
              "      border-radius: 50%;\n",
              "      cursor: pointer;\n",
              "      display: none;\n",
              "      fill: #1967D2;\n",
              "      height: 32px;\n",
              "      padding: 0 0 0 0;\n",
              "      width: 32px;\n",
              "    }\n",
              "\n",
              "    .colab-df-convert:hover {\n",
              "      background-color: #E2EBFA;\n",
              "      box-shadow: 0px 1px 2px rgba(60, 64, 67, 0.3), 0px 1px 3px 1px rgba(60, 64, 67, 0.15);\n",
              "      fill: #174EA6;\n",
              "    }\n",
              "\n",
              "    [theme=dark] .colab-df-convert {\n",
              "      background-color: #3B4455;\n",
              "      fill: #D2E3FC;\n",
              "    }\n",
              "\n",
              "    [theme=dark] .colab-df-convert:hover {\n",
              "      background-color: #434B5C;\n",
              "      box-shadow: 0px 1px 3px 1px rgba(0, 0, 0, 0.15);\n",
              "      filter: drop-shadow(0px 1px 2px rgba(0, 0, 0, 0.3));\n",
              "      fill: #FFFFFF;\n",
              "    }\n",
              "  </style>\n",
              "\n",
              "      <script>\n",
              "        const buttonEl =\n",
              "          document.querySelector('#df-19e46b5a-d3d7-4a01-8c30-e805c52335df button.colab-df-convert');\n",
              "        buttonEl.style.display =\n",
              "          google.colab.kernel.accessAllowed ? 'block' : 'none';\n",
              "\n",
              "        async function convertToInteractive(key) {\n",
              "          const element = document.querySelector('#df-19e46b5a-d3d7-4a01-8c30-e805c52335df');\n",
              "          const dataTable =\n",
              "            await google.colab.kernel.invokeFunction('convertToInteractive',\n",
              "                                                     [key], {});\n",
              "          if (!dataTable) return;\n",
              "\n",
              "          const docLinkHtml = 'Like what you see? Visit the ' +\n",
              "            '<a target=\"_blank\" href=https://colab.research.google.com/notebooks/data_table.ipynb>data table notebook</a>'\n",
              "            + ' to learn more about interactive tables.';\n",
              "          element.innerHTML = '';\n",
              "          dataTable['output_type'] = 'display_data';\n",
              "          await google.colab.output.renderOutput(dataTable, element);\n",
              "          const docLink = document.createElement('div');\n",
              "          docLink.innerHTML = docLinkHtml;\n",
              "          element.appendChild(docLink);\n",
              "        }\n",
              "      </script>\n",
              "    </div>\n",
              "  </div>\n",
              "  "
            ]
          },
          "metadata": {},
          "execution_count": 3
        }
      ]
    },
    {
      "cell_type": "code",
      "source": [
        "data['Description'][1]"
      ],
      "metadata": {
        "id": "VuuXMB-b9pbf"
      },
      "execution_count": null,
      "outputs": []
    },
    {
      "cell_type": "code",
      "source": [
        "questions = ['Where it happened?', 'who is the subject and object of this article?', 'what happened exactly?', 'when it happened?']"
      ],
      "metadata": {
        "id": "_xQOAXkL7hmL"
      },
      "execution_count": 4,
      "outputs": []
    },
    {
      "cell_type": "code",
      "source": [
        "\"\"\"https://huggingface.co/deepset/roberta-base-squad2\"\"\"\n",
        "from transformers import pipeline\n",
        "\n",
        "model_name = \"deepset/roberta-base-squad2\"\n",
        "\n",
        "# a) Get predictions\n",
        "nlp = pipeline('question-answering', model=model_name, tokenizer=model_name)\n",
        "for text, i in zip(data['Description'], range(len(data))):\n",
        "  print(f'question ({i}):\\n')\n",
        "  for question in questions:\n",
        "    QA_input = {\n",
        "        'question': question,\n",
        "        'context': text}\n",
        "    res = nlp(QA_input)\n",
        "    \n",
        "    print(res['answer'])\n",
        "  print('\\n=================================================================\\n')\n",
        "  "
      ],
      "metadata": {
        "colab": {
          "base_uri": "https://localhost:8080/"
        },
        "id": "KTjqPdXd8iog",
        "outputId": "57f6b91f-cba6-42a4-a8b9-a90384404508"
      },
      "execution_count": null,
      "outputs": [
        {
          "output_type": "stream",
          "name": "stdout",
          "text": [
            "question (0):\n",
            "\n",
            "Hampton Dene Road\n",
            "\n",
            "GOOGLE\n",
            "\n",
            "A cyber attack at a secondary school led to pupils' information being published online\n",
            "9 October\n",
            "\n",
            "=================================================================\n",
            "\n",
            "question (1):\n",
            "\n",
            "Ukraine\n",
            "Kirill Stremousov\n",
            "illegally annexing Ukrainian provinces\n",
            "invading in February\n",
            "\n",
            "=================================================================\n",
            "\n",
            "question (2):\n",
            "\n",
            "indoors, on stacked levels, in a highly controlled environment\n",
            "Vertical farming\n",
            "Vertical farming\n",
            "Vertical farming\n",
            "\n",
            "=================================================================\n",
            "\n",
            "question (3):\n",
            "\n",
            "Mount Kilimanjaro\n",
            "meningitis\n",
            "a bid to raise awareness about meningitis\n",
            "A father climbed Mount Kilimanjaro\n",
            "\n",
            "=================================================================\n",
            "\n",
            "question (4):\n",
            "\n",
            "Online furniture firm Made.com has gone into administration\n",
            "Sarah\n",
            "gone into administration\n",
            "pandemic-related lockdowns\n",
            "\n",
            "=================================================================\n",
            "\n",
            "question (5):\n",
            "\n",
            "protecting the needs of businesses at home\n",
            "protecting the needs of businesses at home\n",
            "protecting the needs of businesses at home\n",
            "protecting the needs of businesses at home\n",
            "\n",
            "=================================================================\n",
            "\n",
            "question (6):\n",
            "\n",
            "\n",
            "GETTY IMAGES\n",
            "\n",
            "GETTY IMAGES\n"
          ]
        }
      ]
    },
    {
      "cell_type": "code",
      "source": [],
      "metadata": {
        "id": "SDzzOK-h9LWG"
      },
      "execution_count": null,
      "outputs": []
    }
  ]
}